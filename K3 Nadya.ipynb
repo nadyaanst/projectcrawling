{
 "cells": [
  {
   "cell_type": "code",
   "execution_count": 2,
   "id": "9d20bac7",
   "metadata": {},
   "outputs": [
    {
     "name": "stdout",
     "output_type": "stream",
     "text": [
      "Scraping completed. Job listings saved to k3.xlsx.\n"
     ]
    }
   ],
   "source": [
    "import time\n",
    "import pandas as pd\n",
    "from selenium import webdriver\n",
    "from selenium.webdriver.common.by import By\n",
    "from selenium.webdriver.chrome.service import Service\n",
    "from selenium.webdriver.chrome.options import Options\n",
    "from selenium.webdriver.common.keys import Keys\n",
    "\n",
    "# Path to your ChromeDriver executable\n",
    "chrome_driver_path = 'path/to/chromedriver'\n",
    "\n",
    "# Set Chrome options\n",
    "chrome_options = Options()\n",
    "chrome_options.add_argument('--headless')  # Run in headless mode (without opening browser window)\n",
    "\n",
    "# Set up ChromeDriver service\n",
    "service = Service(executable_path=chrome_driver_path)\n",
    "\n",
    "# Create new instance of ChromeDriver\n",
    "driver = webdriver.Chrome(service=service, options=chrome_options)\n",
    "\n",
    "# Navigate to the job search page\n",
    "job_search_url = 'https://www.linkedin.com/jobs/search/?currentJobId=3607293304&geoId=102478259&keywords=k3&location=Indonesia&originalSubdomain=id&refresh=true'\n",
    "driver.get(job_search_url)\n",
    "\n",
    "# Wait for the page to load\n",
    "time.sleep(3)\n",
    "\n",
    "# Scroll to the bottom of the page to load more job listings (adjust the range as needed)\n",
    "for _ in range(3):\n",
    "    driver.find_element(By.TAG_NAME, 'body').send_keys(Keys.END)\n",
    "    time.sleep(2)\n",
    "\n",
    "# Find all job listings on the page\n",
    "job_listings = driver.find_elements(By.CLASS_NAME, 'base-card')\n",
    "\n",
    "# Initialize lists to store the scraped data\n",
    "titles = []\n",
    "companies = []\n",
    "locations = []\n",
    "\n",
    "# Scrape job titles, company names, and locations\n",
    "for listing in job_listings:\n",
    "    try:\n",
    "        title = listing.find_element(By.CLASS_NAME, 'base-search-card__title').text.strip()\n",
    "        company = listing.find_element(By.CLASS_NAME, 'base-search-card__subtitle').text.strip()\n",
    "        location = listing.find_element(By.CLASS_NAME, 'job-search-card__location').text.strip()\n",
    "\n",
    "        titles.append(title)\n",
    "        companies.append(company)\n",
    "        locations.append(location)\n",
    "    except Exception as e:\n",
    "        print(f'Error scraping job listing: {str(e)}')\n",
    "\n",
    "# Create a pandas DataFrame with the scraped data\n",
    "data = {\n",
    "    'Title': titles,\n",
    "    'Company': companies,\n",
    "    'Location': locations\n",
    "}\n",
    "df = pd.DataFrame(data)\n",
    "\n",
    "# Save the DataFrame to an Excel file\n",
    "output_file = 'k3.xlsx'\n",
    "df.to_excel(output_file, index=False)\n",
    "\n",
    "# Close the browser\n",
    "driver.quit()\n",
    "\n",
    "print(f'Scraping completed. Job listings saved to {output_file}.')\n"
   ]
  },
  {
   "cell_type": "code",
   "execution_count": null,
   "id": "e4336d5a",
   "metadata": {},
   "outputs": [],
   "source": []
  }
 ],
 "metadata": {
  "kernelspec": {
   "display_name": "Python 3 (ipykernel)",
   "language": "python",
   "name": "python3"
  },
  "language_info": {
   "codemirror_mode": {
    "name": "ipython",
    "version": 3
   },
   "file_extension": ".py",
   "mimetype": "text/x-python",
   "name": "python",
   "nbconvert_exporter": "python",
   "pygments_lexer": "ipython3",
   "version": "3.10.9"
  }
 },
 "nbformat": 4,
 "nbformat_minor": 5
}
